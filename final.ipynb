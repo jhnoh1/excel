{
  "nbformat": 4,
  "nbformat_minor": 0,
  "metadata": {
    "colab": {
      "provenance": []
    },
    "kernelspec": {
      "name": "python3",
      "display_name": "Python 3"
    },
    "language_info": {
      "name": "python"
    }
  },
  "cells": [
    {
      "cell_type": "code",
      "execution_count": 1,
      "metadata": {
        "id": "47hfk5E-CDzo"
      },
      "outputs": [],
      "source": [
        "import pandas as pd"
      ]
    },
    {
      "cell_type": "code",
      "source": [
        "from IPython.utils.path import filefind\n",
        "#쓸 파일 이름 적기 (확장자명까지)\n",
        "\n",
        "filename1 = \"파일이름1.xlsx\"\n",
        "filename2 = \"파일이름2.xlsx\"\n",
        "\n",
        "#사용할 분류 정하기\n",
        "\n",
        "classification = \"나\"\n",
        "\n",
        "# sheet 이름\n",
        "\n",
        "sheet1 = \"Sheet1\"\n",
        "sheet2 = \"Sheet1\"\n",
        "\n",
        "\n",
        "# 결과를 엑셀로 받을지 csv로 받을지 선택 (엑셀시 엑셀 입력)(csv시 csv 입력)\n",
        "result = \"엑셀\""
      ],
      "metadata": {
        "id": "8RvsRMEYY8hY"
      },
      "execution_count": 38,
      "outputs": []
    },
    {
      "cell_type": "code",
      "source": [
        "if filename1[-3:] == \"csv\":\n",
        "    df1 = pd.read_csv(filename1, encoding = 'cp949')\n",
        "    list_df1 = df1[classification].values.tolist()\n",
        "else:\n",
        "    df1 = pd.read_excel(filename1,sheet_name= sheet1)\n",
        "    list_df1 = df1[classification].values.tolist()\n",
        "\n",
        "if filename2[-3:] == \"csv\":\n",
        "    df2 = pd.read_csv(filename2, encoding = 'cp949')\n",
        "    list_df2 = df2[classification].values.tolist()\n",
        "else:\n",
        "    df2 = pd.read_excel(filename2, sheet_name= sheet2)\n",
        "    list_df2 = df2[classification].values.tolist()\n",
        "\n",
        "df = [x for x in list_df1 if x not in list_df2]\n",
        "final = df1[df1[classification].isin(df)]"
      ],
      "metadata": {
        "id": "OvoyE0yLJewa"
      },
      "execution_count": null,
      "outputs": []
    },
    {
      "cell_type": "code",
      "source": [
        "if result ==\"엑셀\":\n",
        "    final.to_excel('결과.xlsx',index = False)\n",
        "else:\n",
        "    final.to_csv('결과.csv',index = False)"
      ],
      "metadata": {
        "id": "2uNaGewqJ5iG"
      },
      "execution_count": null,
      "outputs": []
    }
  ]
}